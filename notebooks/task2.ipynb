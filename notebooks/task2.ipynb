{
 "cells": [
  {
   "cell_type": "code",
   "execution_count": 33,
   "metadata": {
    "collapsed": true
   },
   "outputs": [],
   "source": [
    "from collections import Iterable\n",
    "from typing import Collection\n",
    "\n",
    "import numpy as nmp\n",
    "import matplotlib.pyplot as plt\n",
    "import numpy.random as random"
   ]
  },
  {
   "cell_type": "code",
   "execution_count": 34,
   "outputs": [],
   "source": [
    "test_count = 10000"
   ],
   "metadata": {
    "collapsed": false,
    "pycharm": {
     "name": "#%%\n"
    }
   }
  },
  {
   "cell_type": "code",
   "execution_count": 35,
   "outputs": [],
   "source": [
    "def single_event(prob: float) -> bool:\n",
    "    return nmp.random.random() <= prob"
   ],
   "metadata": {
    "collapsed": false,
    "pycharm": {
     "name": "#%%\n"
    }
   }
  },
  {
   "cell_type": "code",
   "execution_count": 36,
   "outputs": [
    {
     "name": "stdout",
     "output_type": "stream",
     "text": [
      "[0.3046 0.6954]\n"
     ]
    }
   ],
   "source": [
    "_, c = nmp.unique([single_event(0.7) for i in range(test_count)], return_counts=True)\n",
    "print(c / test_count)"
   ],
   "metadata": {
    "collapsed": false,
    "pycharm": {
     "name": "#%%\n"
    }
   }
  },
  {
   "cell_type": "code",
   "execution_count": 37,
   "outputs": [],
   "source": [
    "def independent_events(probs: Iterable[bool]) -> nmp.ndarray:\n",
    "    return nmp.array([single_event(p) for p in probs])"
   ],
   "metadata": {
    "collapsed": false,
    "pycharm": {
     "name": "#%%\n"
    }
   }
  },
  {
   "cell_type": "code",
   "execution_count": 38,
   "outputs": [],
   "source": [
    "def dependent_events(p_a: float, p_b_if_a: float):\n",
    "    if single_event(p_a):\n",
    "        if single_event(p_b_if_a):\n",
    "            return 0\n",
    "        else:\n",
    "            return 1\n",
    "    elif single_event(1 - p_b_if_a):\n",
    "        return 2\n",
    "    else:\n",
    "        return 3"
   ],
   "metadata": {
    "collapsed": false,
    "pycharm": {
     "name": "#%%\n"
    }
   }
  },
  {
   "cell_type": "code",
   "execution_count": 42,
   "outputs": [],
   "source": [
    "def choice(probs: list[float]):\n",
    "    r = nmp.random.random()\n",
    "    i = 0\n",
    "    p_sum = 0\n",
    "    while p_sum <= r and i < len(probs):\n",
    "        p_sum += probs[i]\n",
    "        i += 1\n",
    "    i -= 1\n",
    "    return i"
   ],
   "metadata": {
    "collapsed": false,
    "pycharm": {
     "name": "#%%\n"
    }
   }
  },
  {
   "cell_type": "code",
   "execution_count": 43,
   "outputs": [
    {
     "name": "stdout",
     "output_type": "stream",
     "text": [
      "[0.0968 0.1012 0.0983 0.1023 0.1021 0.0995 0.0998 0.1016 0.0986 0.0998]\n"
     ]
    }
   ],
   "source": [
    "_, c = nmp.unique([choice(nmp.ones(10) / 10.) for i in range(test_count)], return_counts=True)\n",
    "print(c / test_count)"
   ],
   "metadata": {
    "collapsed": false,
    "pycharm": {
     "name": "#%%\n"
    }
   }
  },
  {
   "cell_type": "code",
   "execution_count": 44,
   "outputs": [
    {
     "name": "stdout",
     "output_type": "stream",
     "text": [
      "base_1: 0.08079\n",
      "base_10: 0.08037\n",
      "base_2: 0.08006\n",
      "base_3: 0.07926\n",
      "base_4: 0.07985\n",
      "base_5: 0.07894\n",
      "base_6: 0.08044\n",
      "base_7: 0.07904\n",
      "base_8: 0.08234\n",
      "base_9: 0.07964\n",
      "rare_1: 0.07424\n",
      "rare_2: 0.04502\n",
      "rare_3: 0.02999\n",
      "ultra_1: 0.01948\n",
      "ultra_2: 0.03054\n"
     ]
    }
   ],
   "source": [
    "def roulette(\n",
    "        p_u: float,\n",
    "        p_r: float,\n",
    "        names_b: list[str],\n",
    "        ps_b: list[bool],\n",
    "        names_r: list[str],\n",
    "        ps_r: list[bool],\n",
    "        names_u: list[str],\n",
    "        ps_u: list[bool]\n",
    "):\n",
    "    size = 0\n",
    "    items = []\n",
    "    if single_event(p_r):\n",
    "        size += 1\n",
    "        if single_event(p_u / p_r):\n",
    "            items.append(names_u[choice(ps_u)])\n",
    "        else:\n",
    "            items.append(names_r[choice(ps_r)])\n",
    "    for i in range(5 - size):\n",
    "        items.append(names_b[choice(ps_b)])\n",
    "    return items[0]\n",
    "\n",
    "\n",
    "a = [roulette(0.05, 0.2,\n",
    "              ['base_1', 'base_2', 'base_3', 'base_4', 'base_5', 'base_6', 'base_7', 'base_8', 'base_9', 'base_10'],\n",
    "              [0.1, 0.1, 0.1, 0.1, 0.1, 0.1, 0.1, 0.1, 0.1, 0.1],\n",
    "              ['rare_1', 'rare_2', 'rare_3'],\n",
    "              [0.5, 0.3, 0.2],\n",
    "              ['ultra_1', 'ultra_2'],\n",
    "              [0.4, 0.6]\n",
    "              ) for i in range(100000)]\n",
    "a = nmp.reshape(a, -1)\n",
    "values, counts = nmp.unique(a, return_counts=True)\n",
    "for v, p in zip(values, counts / len(a)):\n",
    "    print(f'{v}: {p}')"
   ],
   "metadata": {
    "collapsed": false,
    "pycharm": {
     "name": "#%%\n"
    }
   }
  }
 ],
 "metadata": {
  "kernelspec": {
   "display_name": "Python 3",
   "language": "python",
   "name": "python3"
  },
  "language_info": {
   "codemirror_mode": {
    "name": "ipython",
    "version": 2
   },
   "file_extension": ".py",
   "mimetype": "text/x-python",
   "name": "python",
   "nbconvert_exporter": "python",
   "pygments_lexer": "ipython2",
   "version": "2.7.6"
  }
 },
 "nbformat": 4,
 "nbformat_minor": 0
}