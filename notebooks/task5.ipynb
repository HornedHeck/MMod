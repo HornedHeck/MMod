{
 "cells": [
  {
   "cell_type": "code",
   "execution_count": 34,
   "metadata": {
    "collapsed": true
   },
   "outputs": [],
   "source": [
    "import numpy as nmp\n",
    "from math import factorial\n",
    "import matplotlib.pyplot as plt\n",
    "\n",
    "plt.style.use('dark_background')"
   ]
  },
  {
   "cell_type": "markdown",
   "metadata": {
    "pycharm": {
     "name": "#%% md\n"
    }
   },
   "source": [
    "Одноканальная СМО с отказами представляет собой одну телефонную линию, на вход которой поступает простейший поток вызовов с интенсивностью X = 0,4 вызов/мин. Средняя продолжительность разговора tобсл = 3 мин; время разговора имеет показательное распределение. Найти финальные вероятности со стояний СМО: р0 и pn а также A, Q, Ротк,  Сравнить пропускную способность СМО с номинальной, которая была бы, если бы раз говор длился в точности 3 мин, а заявки шли одна за другой регулярно, без перерывов.\n",
    "\n",
    "\n",
    "3-х буквенная характеристика системы: M/M/1\n",
    "\n",
    "Количество состояний 2:\n",
    "1. Все каналы свободны\n",
    "2. Все каналы заняты\n",
    "\n",
    "$$\\lambda = 0.4$$\n",
    "\n",
    "$$\\mu = \\dfrac{1}{t_{обсл}} = \\dfrac{1}{3} $$\n",
    "\n",
    "$$ \\alpha = \\dfrac{\\lambda}{\\mu} = 1.2 $$\n",
    "\n",
    "Вероятности состояний можно вычислить по формулам:\n",
    "\n",
    "$$ p_0 = \\dfrac{1}{\\sum \\limits_{k=0}^n \\dfrac{\\alpha^k}{k!}} $$\n",
    "\n",
    "$$ p_k =  \\dfrac{\\dfrac{\\alpha^k}{k!}}{\\sum \\limits_{k=0}^n \\dfrac{\\alpha^k}{k!}}  , 0 \\le k \\le n $$\n",
    "\n",
    "Используя то, что система одноканальная:\n",
    "\n",
    "$$ p_0 = \\dfrac{1}{1+ \\alpha} = \\dfrac{5}{11} \\approx 0.4545$$\n",
    "\n",
    "$$ p_1 = \\dfrac{\\alpha}{1 + \\alpha} = \\dfrac{6}{11} \\approx 0.5454 $$\n",
    "\n",
    "Проверим сумму вероятностей состояний ( в десятичном представлении)\n",
    "$$ p_0 + p_1 = 0.9999 $$\n",
    "\n",
    "Пропускная способность при фиксированных периодах обработки и поступления звонков:\n",
    "\n",
    "$$ l = 2.5 * i , i \\in N , l > t_{обр} $$\n",
    "\n",
    "$$ A_ф = \\dfrac{1}{l} = 0.2 $$\n",
    "\n"
   ]
  },
  {
   "cell_type": "code",
   "execution_count": 35,
   "metadata": {
    "pycharm": {
     "name": "#%%\n"
    }
   },
   "outputs": [],
   "source": [
    "def plot_mss_simulation(t_service_gen, t_event_gen, limit=20):\n",
    "    #     assume free service at 0\n",
    "    #     assume event at 0\n",
    "    t_event = 0\n",
    "    events_x = [0]\n",
    "    # event_y always 0\n",
    "    t_service = t_service_gen()\n",
    "    service_x = [0, 0, t_service, t_service]\n",
    "    service_y = [0, 1, 1, 0]\n",
    "    while t_event < limit:\n",
    "        t_event += t_event_gen()\n",
    "        events_x.append(t_event)\n",
    "        if t_service < t_event:\n",
    "            # proceed event\n",
    "            service_x.append(t_event)\n",
    "            service_x.append(t_event)\n",
    "            service_y.append(0)\n",
    "            service_y.append(1)\n",
    "            t_service = t_event + t_service_gen()\n",
    "            service_x.append(t_service)\n",
    "            service_x.append(t_service)\n",
    "            service_y.append(1)\n",
    "            service_y.append(0)\n",
    "        else:\n",
    "            #skip event\n",
    "            pass\n",
    "        # break\n",
    "    plt.plot(service_x, service_y, label='MSS state')\n",
    "    plt.scatter(events_x, nmp.zeros(len(events_x)), color='red', label='Events')\n",
    "    plt.legend()\n",
    "    plt.show()\n",
    "\n",
    "\n",
    "def rev_random(rev: callable) -> float:\n",
    "    r = nmp.random.random()\n",
    "    return rev(r)\n",
    "\n",
    "\n",
    "def exp_rev_gen(speed) -> callable:\n",
    "    return lambda x_i: -1 / speed * nmp.log(1 - x_i)\n",
    "\n",
    "\n",
    "def calc_params(orders_speed: float, t_service: float, n: int = 1):\n",
    "    alpha = orders_speed * t_service\n",
    "    status_count = n + 1\n",
    "    status_p = nmp.zeros(status_count)\n",
    "    status_calcs = nmp.array([alpha ** k / factorial(k) for k in range(status_count)])\n",
    "    status_div = status_calcs.sum()\n",
    "    for i in range(status_count):\n",
    "        status_p[i] = status_calcs[i] / status_div\n",
    "        print(f'p_{i} = {status_p[i]:.4f}')\n",
    "\n",
    "    p_decline = status_p[-1]\n",
    "    print(f'P_decline = p_n = {p_decline:.4f}')\n",
    "    q = 1 - p_decline\n",
    "    print(f'Q = 1 - P_decline = {q:.4f}')\n",
    "    a = orders_speed * q\n",
    "    print(f'A = lambda * Q = {a:.4f}')\n",
    "\n",
    "    ord_multiplier = 1\n",
    "    while ord_multiplier / orders_speed < t_service / n:\n",
    "        ord_multiplier += 1\n",
    "\n",
    "    a_strict = orders_speed / ord_multiplier\n",
    "    print(f'A_strict = {a_strict:.4f} (1 per {1 / a_strict:.2f} min)')\n",
    "\n",
    "    print(f'A/A_strict * 100% = {100 * a / a_strict:.2f}%')\n",
    "\n",
    "    if n == 1:\n",
    "        plot_mss_simulation(\n",
    "            lambda: t_service,\n",
    "            lambda: 1 / orders_speed\n",
    "        )\n",
    "\n",
    "        plot_mss_simulation(\n",
    "            lambda: rev_random(exp_rev_gen(1 / 3)),\n",
    "            lambda: rev_random(exp_rev_gen(0.4))\n",
    "        )\n",
    "\n"
   ]
  },
  {
   "cell_type": "code",
   "execution_count": 36,
   "metadata": {
    "pycharm": {
     "name": "#%%\n"
    }
   },
   "outputs": [
    {
     "name": "stdout",
     "output_type": "stream",
     "text": [
      "p_0 = 0.3571\n",
      "p_1 = 0.6429\n",
      "P_decline = p_n = 0.6429\n",
      "Q = 1 - P_decline = 0.3571\n",
      "A = lambda * Q = 0.2143\n",
      "A_strict = 0.3000 (1 per 3.33 min)\n",
      "A/A_strict * 100% = 71.43%\n"
     ]
    },
    {
     "data": {
      "text/plain": "<Figure size 432x288 with 1 Axes>",
      "image/png": "[encoded data removed]"
     },
     "metadata": {},
     "output_type": "display_data"
    },
    {
     "data": {
      "text/plain": "<Figure size 432x288 with 1 Axes>",
      "image/png": "[encoded data removed]"
     },
     "metadata": {},
     "output_type": "display_data"
    }
   ],
   "source": [
    "calc_params(\n",
    "    float(input('Темп звонков')),\n",
    "    float(input('Ср. вр. обслуживания')),\n",
    "    int(input('Количество потоков'))\n",
    ")"
   ]
  }
 ],
 "metadata": {
  "kernelspec": {
   "display_name": "Python 3 (ipykernel)",
   "language": "python",
   "name": "python3"
  },
  "language_info": {
   "codemirror_mode": {
    "name": "ipython",
    "version": 3
   },
   "file_extension": ".py",
   "mimetype": "text/x-python",
   "name": "python",
   "nbconvert_exporter": "python",
   "pygments_lexer": "ipython3",
   "version": "3.9.7"
  }
 },
 "nbformat": 4,
 "nbformat_minor": 1
}